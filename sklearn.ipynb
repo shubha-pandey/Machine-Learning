{
 "cells": [
  {
   "cell_type": "markdown",
   "metadata": {},
   "source": [
    "## SkLearn or Scikit-Learn\n",
    "\n",
    "* Simple and efficient tool for mining and data analysis\n",
    "* Accessible to everyone, and reusable in various contexts\n",
    "* Built on **NumPy**, **SciPy**, and **Matplotlib**\n",
    "* Open source, commercially usable - BSD license"
   ]
  },
  {
   "cell_type": "markdown",
   "metadata": {},
   "source": [
    "With Scikit-Learn we can perform :\n",
    "* Classification \n",
    "* Regression\n",
    "* Clustering\n",
    "* Dimensionality Reduction\n",
    "* Model Selection\n",
    "* Preprocessing"
   ]
  },
  {
   "cell_type": "code",
   "execution_count": null,
   "metadata": {},
   "outputs": [],
   "source": [
    "% pip install scikit-learn"
   ]
  },
  {
   "cell_type": "code",
   "execution_count": 1,
   "metadata": {},
   "outputs": [
    {
     "name": "stdout",
     "output_type": "stream",
     "text": [
      "1.5.2\n"
     ]
    }
   ],
   "source": [
    "import sklearn\n",
    "\n",
    "print(sklearn.__version__)"
   ]
  },
  {
   "cell_type": "markdown",
   "metadata": {},
   "source": [
    "* sklearn provides in-built datasets\n",
    "* we can test algorithms with its pre-existing dataset\n",
    "* sklearn handles the numpy array and the work is done on them.\n",
    "* sklearn also provides pipelines and serialization\n",
    "\n",
    "-----------------------------------------------------------------"
   ]
  },
  {
   "cell_type": "markdown",
   "metadata": {},
   "source": [
    "### Scikit-learn Design\n",
    "\n",
    "Primarily, there're three types of objects :\n",
    "\n",
    "1. _<u>Estimators</u>_ : Estimates some parameters based on a datase, eg, Imputer. It has a _fit_ method(fits the dataset and calculates internal parameters) and _transform_ method.\n",
    "\n",
    "2. _<u>Transformers</u>_ : Transform method takes input and returns output based on the learnings from fit. It also has a _convenince function_ called 'fit_transform()' which fits and then transforms.\n",
    "\n",
    "3. _<u>Predictors</u>_ : fit() and predict are common functions. It also gives score function which will evaluate the predictions. LinearRegression model is an example."
   ]
  },
  {
   "cell_type": "markdown",
   "metadata": {},
   "source": [
    "Loading Datasets"
   ]
  },
  {
   "cell_type": "code",
   "execution_count": 2,
   "metadata": {},
   "outputs": [],
   "source": [
    "from sklearn import datasets\n",
    "\n",
    "# data = datasets.(dataset required)"
   ]
  },
  {
   "cell_type": "markdown",
   "metadata": {},
   "source": [
    "Splitting Data into Training and Testing set "
   ]
  },
  {
   "cell_type": "code",
   "execution_count": 3,
   "metadata": {},
   "outputs": [],
   "source": [
    "from sklearn.model_selection import train_test_split\n",
    "\n",
    "# test_set, train_set = train_test_split(data, test_size= , randomstate= )"
   ]
  },
  {
   "cell_type": "markdown",
   "metadata": {},
   "source": [
    "Handling missing values in data"
   ]
  },
  {
   "cell_type": "code",
   "execution_count": null,
   "metadata": {},
   "outputs": [],
   "source": [
    "from sklearn.impute import SimpleImputer \n",
    "import numpy as np\n",
    "\n",
    "# imputer = SimpleImputer(missing_values=np.nan, strategy='mean')\n",
    "\n",
    "# imputer.fit(data)"
   ]
  },
  {
   "cell_type": "markdown",
   "metadata": {},
   "source": [
    "Creating Pipeline"
   ]
  },
  {
   "cell_type": "code",
   "execution_count": null,
   "metadata": {},
   "outputs": [],
   "source": [
    "from sklearn.pipeline import Pipeline"
   ]
  }
 ],
 "metadata": {
  "kernelspec": {
   "display_name": "Python 3",
   "language": "python",
   "name": "python3"
  },
  "language_info": {
   "codemirror_mode": {
    "name": "ipython",
    "version": 3
   },
   "file_extension": ".py",
   "mimetype": "text/x-python",
   "name": "python",
   "nbconvert_exporter": "python",
   "pygments_lexer": "ipython3",
   "version": "3.11.9"
  }
 },
 "nbformat": 4,
 "nbformat_minor": 2
}
