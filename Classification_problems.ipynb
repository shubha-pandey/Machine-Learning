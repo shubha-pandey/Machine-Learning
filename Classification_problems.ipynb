{
 "cells": [
  {
   "cell_type": "markdown",
   "metadata": {},
   "source": [
    "## Classification\n",
    "\n",
    "The Classification algorithm is a Supervised Learning technique that is used to identify the category of new observations on the basis of training data. \n",
    "\n",
    "In Classification, a program learns from the given dataset or observations and then classifies new observation into a number of classes or groups. Such as, Yes or No, 0 or 1, Spam or Not Spam, cat or dog, etc. Classes can be called as targets/labels or categories.\n",
    "\n",
    "In classification algorithm, a discrete output _function(y)_ is mapped to input _variable(x)_.\n",
    "\n",
    "    y = f(x)             where y = categorical output  \n",
    "\n",
    "\n",
    "The main objective of classification machine learning is to build a model that can accurately assign a label or category to a new observation based on its features.\n",
    "\n",
    "\n",
    "\n",
    "------------------------------------------------------------------------------"
   ]
  },
  {
   "cell_type": "markdown",
   "metadata": {},
   "source": [
    "### Classification vs Regression"
   ]
  },
  {
   "cell_type": "code",
   "execution_count": 10,
   "metadata": {},
   "outputs": [
    {
     "data": {
      "text/html": [
       "<img src=\"https://cdn.prod.website-files.com/6473d8d02a3cf26273f2787d/6473d8d02a3cf26273f2891e_1661514788814.png\"/>"
      ],
      "text/plain": [
       "<IPython.core.display.Image object>"
      ]
     },
     "metadata": {},
     "output_type": "display_data"
    },
    {
     "data": {
      "text/html": [
       "<img src=\"https://images.javatpoint.com/tutorial/machine-learning/images/regression-vs-classification-in-machine-learning.png\"/>"
      ],
      "text/plain": [
       "<IPython.core.display.Image object>"
      ]
     },
     "metadata": {},
     "output_type": "display_data"
    }
   ],
   "source": [
    "from IPython.display import Image, display\n",
    "\n",
    "urls = [\n",
    "       \"https://cdn.prod.website-files.com/6473d8d02a3cf26273f2787d/6473d8d02a3cf26273f2891e_1661514788814.png\",\n",
    "       \"https://images.javatpoint.com/tutorial/machine-learning/images/regression-vs-classification-in-machine-learning.png\"\n",
    "      ]\n",
    "\n",
    "for url in urls :\n",
    "    display(Image(url=url))\n"
   ]
  },
  {
   "cell_type": "markdown",
   "metadata": {},
   "source": [
    "\n",
    "------------------------------------------------------------------------------"
   ]
  },
  {
   "cell_type": "markdown",
   "metadata": {},
   "source": [
    "Every ML Algo works on a given set of conditions."
   ]
  }
 ],
 "metadata": {
  "kernelspec": {
   "display_name": "Python 3",
   "language": "python",
   "name": "python3"
  },
  "language_info": {
   "codemirror_mode": {
    "name": "ipython",
    "version": 3
   },
   "file_extension": ".py",
   "mimetype": "text/x-python",
   "name": "python",
   "nbconvert_exporter": "python",
   "pygments_lexer": "ipython3",
   "version": "3.11.9"
  }
 },
 "nbformat": 4,
 "nbformat_minor": 2
}
